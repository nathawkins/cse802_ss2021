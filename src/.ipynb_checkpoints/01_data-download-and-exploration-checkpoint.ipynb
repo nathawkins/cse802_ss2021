{
 "cells": [
  {
   "cell_type": "markdown",
   "metadata": {},
   "source": [
    "Download the data from Kaggle: https://www.kaggle.com/clmentbisaillon/fake-and-real-news-dataset"
   ]
  },
  {
   "cell_type": "markdown",
   "metadata": {},
   "source": [
    "Place downloaded files into direct `../data/Kaggle/`"
   ]
  },
  {
   "cell_type": "code",
   "execution_count": null,
   "metadata": {},
   "outputs": [],
   "source": [
    "data_dir = \"../data/\"\n",
    "kaggle_dir = data_dir + \"Kaggle/\""
   ]
  },
  {
   "cell_type": "code",
   "execution_count": null,
   "metadata": {
    "executionInfo": {
     "elapsed": 335,
     "status": "ok",
     "timestamp": 1612978550138,
     "user": {
      "displayName": "Nat Hawkins",
      "photoUrl": "https://lh3.googleusercontent.com/a-/AOh14GjXPV2QclQMau5QR4-Eat2Eo6QE-LAPydToClnK=s64",
      "userId": "15612412735832065156"
     },
     "user_tz": 300
    },
    "id": "im58qLLGAkKi"
   },
   "outputs": [],
   "source": [
    "import pandas as pd"
   ]
  },
  {
   "cell_type": "code",
   "execution_count": null,
   "metadata": {
    "colab": {
     "base_uri": "https://localhost:8080/",
     "height": 204
    },
    "executionInfo": {
     "elapsed": 1179,
     "status": "ok",
     "timestamp": 1612978596397,
     "user": {
      "displayName": "Nat Hawkins",
      "photoUrl": "https://lh3.googleusercontent.com/a-/AOh14GjXPV2QclQMau5QR4-Eat2Eo6QE-LAPydToClnK=s64",
      "userId": "15612412735832065156"
     },
     "user_tz": 300
    },
    "id": "yfZS88GeA3QE",
    "outputId": "0ed0e424-41ed-4aaf-a5e9-7c0810d4fc51"
   },
   "outputs": [],
   "source": [
    "kaggle_true_df = pd.read_csv(kaggle_dir + \"True.csv.zip\", compression = \"zip\")\r\n",
    "kaggle_true_df.head()"
   ]
  },
  {
   "cell_type": "code",
   "execution_count": null,
   "metadata": {
    "colab": {
     "base_uri": "https://localhost:8080/",
     "height": 204
    },
    "executionInfo": {
     "elapsed": 2074,
     "status": "ok",
     "timestamp": 1612978627309,
     "user": {
      "displayName": "Nat Hawkins",
      "photoUrl": "https://lh3.googleusercontent.com/a-/AOh14GjXPV2QclQMau5QR4-Eat2Eo6QE-LAPydToClnK=s64",
      "userId": "15612412735832065156"
     },
     "user_tz": 300
    },
    "id": "eEMoI8dwA-7K",
    "outputId": "c9765f69-710f-48f6-e5a6-4a03af2a4255"
   },
   "outputs": [],
   "source": [
    "kaggle_fake_df = pd.read_csv(kaggle_dir + \"Fake.csv.zip\", compression = \"zip\")\r\n",
    "kaggle_fake_df.head()"
   ]
  }
 ],
 "metadata": {
  "colab": {
   "authorship_tag": "ABX9TyPHZqYsEySfcot54wM8Js6n",
   "collapsed_sections": [],
   "name": "1 - Data Download and Exploration.ipynb",
   "provenance": []
  },
  "kernelspec": {
   "display_name": "Python 3",
   "language": "python",
   "name": "python3"
  },
  "language_info": {
   "codemirror_mode": {
    "name": "ipython",
    "version": 3
   },
   "file_extension": ".py",
   "mimetype": "text/x-python",
   "name": "python",
   "nbconvert_exporter": "python",
   "pygments_lexer": "ipython3",
   "version": "3.8.5"
  }
 },
 "nbformat": 4,
 "nbformat_minor": 4
}
