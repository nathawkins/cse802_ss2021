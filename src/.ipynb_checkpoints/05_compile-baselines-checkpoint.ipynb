{
 "cells": [
  {
   "cell_type": "code",
   "execution_count": null,
   "metadata": {},
   "outputs": [],
   "source": [
    "import os\n",
    "import json"
   ]
  },
  {
   "cell_type": "code",
   "execution_count": 2,
   "metadata": {},
   "outputs": [],
   "source": [
    "baseline_results = [os.path.join(\"../results/\", f) for f in os.listdir(\"../results/\") if \".json\" in f]"
   ]
  },
  {
   "cell_type": "code",
   "execution_count": 3,
   "metadata": {},
   "outputs": [
    {
     "data": {
      "text/plain": [
       "['../results/baselines_MLP.json',\n",
       " '../results/baselines_KNN-5.json',\n",
       " '../results/baselines_NB.json',\n",
       " '../results/baselines_Linear-SVM.json',\n",
       " '../results/baselines_RBF-SVM.json',\n",
       " '../results/baselines_Log-Reg.json',\n",
       " '../results/baselines_KNN-3.json']"
      ]
     },
     "execution_count": 3,
     "metadata": {},
     "output_type": "execute_result"
    }
   ],
   "source": [
    "baseline_results"
   ]
  },
  {
   "cell_type": "code",
   "execution_count": 4,
   "metadata": {},
   "outputs": [],
   "source": [
    "baselines = []\n",
    "for fname in baseline_results:\n",
    "    baselines.append(json.load(open(fname, \"r\")))"
   ]
  },
  {
   "cell_type": "code",
   "execution_count": 5,
   "metadata": {},
   "outputs": [],
   "source": [
    "def add_dicts(d1, d2):\n",
    "    for k1 in d1.keys():\n",
    "        for k2 in d1[k1].keys():\n",
    "            d1[k1][k2] += d2[k1][k2]\n",
    "    return d1"
   ]
  },
  {
   "cell_type": "code",
   "execution_count": 6,
   "metadata": {},
   "outputs": [],
   "source": [
    "for i in range(len(baselines)):\n",
    "    if i == 0:\n",
    "        continue\n",
    "    add_dicts(baselines[0], baselines[i])"
   ]
  },
  {
   "cell_type": "code",
   "execution_count": 7,
   "metadata": {},
   "outputs": [
    {
     "data": {
      "text/plain": [
       "{'Log Reg': {'accuracy': 0.949261209447352,\n",
       "  'auprc': 0.9201637583452167,\n",
       "  'f1': 0.9479615332895518,\n",
       "  'auroc': 0.9494744750452828,\n",
       "  'time': 126.59219160079957},\n",
       " 'Linear SVM': {'accuracy': 0.9477928495573524,\n",
       "  'auprc': 0.9187326241393858,\n",
       "  'f1': 0.9463740255793868,\n",
       "  'auroc': 0.9479459371230445,\n",
       "  'time': 19752.630537605284},\n",
       " 'RBF SVM': {'accuracy': 0.9544345000416026,\n",
       "  'auprc': 0.9255804901599071,\n",
       "  'f1': 0.953525817532128,\n",
       "  'auroc': 0.9548195673011299,\n",
       "  'time': 25225.82007894516},\n",
       " 'KNN-3': {'accuracy': 0.7686486104860936,\n",
       "  'auprc': 0.7087713238196771,\n",
       "  'f1': 0.7363004647177485,\n",
       "  'auroc': 0.7654867683798077,\n",
       "  'time': 8445.001320648193},\n",
       " 'KNN-5': {'accuracy': 0.744092544769906,\n",
       "  'auprc': 0.6881424431562584,\n",
       "  'f1': 0.6927555749235661,\n",
       "  'auroc': 0.7394514849496948,\n",
       "  'time': 9958.018135786057},\n",
       " 'MLP': {'accuracy': 0.9356616340621182,\n",
       "  'auprc': 0.9048756534934599,\n",
       "  'f1': 0.9332528988863975,\n",
       "  'auroc': 0.9354824442707127,\n",
       "  'time': 1506.4497909545898},\n",
       " 'NB': {'accuracy': 0.7980390042097885,\n",
       "  'auprc': 0.7086559777498358,\n",
       "  'f1': 0.8209371598022115,\n",
       "  'auroc': 0.802994847493123,\n",
       "  'time': 21.524076318740846}}"
      ]
     },
     "execution_count": 7,
     "metadata": {},
     "output_type": "execute_result"
    }
   ],
   "source": [
    "baselines[0]"
   ]
  },
  {
   "cell_type": "code",
   "execution_count": 8,
   "metadata": {},
   "outputs": [],
   "source": [
    "import pandas as pd"
   ]
  },
  {
   "cell_type": "code",
   "execution_count": 9,
   "metadata": {},
   "outputs": [],
   "source": [
    "baseline_df = pd.DataFrame.from_records(baselines[0]).T"
   ]
  },
  {
   "cell_type": "code",
   "execution_count": 10,
   "metadata": {},
   "outputs": [],
   "source": [
    "baseline_df.sort_values(by = \"accuracy\", ascending = False, inplace = True)"
   ]
  },
  {
   "cell_type": "code",
   "execution_count": 11,
   "metadata": {},
   "outputs": [],
   "source": [
    "baseline_df.round(3).to_csv(\"../results/baselines.csv\")"
   ]
  },
  {
   "cell_type": "code",
   "execution_count": 12,
   "metadata": {},
   "outputs": [
    {
     "data": {
      "text/html": [
       "<div>\n",
       "<style scoped>\n",
       "    .dataframe tbody tr th:only-of-type {\n",
       "        vertical-align: middle;\n",
       "    }\n",
       "\n",
       "    .dataframe tbody tr th {\n",
       "        vertical-align: top;\n",
       "    }\n",
       "\n",
       "    .dataframe thead th {\n",
       "        text-align: right;\n",
       "    }\n",
       "</style>\n",
       "<table border=\"1\" class=\"dataframe\">\n",
       "  <thead>\n",
       "    <tr style=\"text-align: right;\">\n",
       "      <th></th>\n",
       "      <th>accuracy</th>\n",
       "      <th>auprc</th>\n",
       "      <th>f1</th>\n",
       "      <th>auroc</th>\n",
       "      <th>time</th>\n",
       "    </tr>\n",
       "  </thead>\n",
       "  <tbody>\n",
       "    <tr>\n",
       "      <th>RBF SVM</th>\n",
       "      <td>0.954</td>\n",
       "      <td>0.926</td>\n",
       "      <td>0.954</td>\n",
       "      <td>0.955</td>\n",
       "      <td>25225.820</td>\n",
       "    </tr>\n",
       "    <tr>\n",
       "      <th>Log Reg</th>\n",
       "      <td>0.949</td>\n",
       "      <td>0.920</td>\n",
       "      <td>0.948</td>\n",
       "      <td>0.949</td>\n",
       "      <td>126.592</td>\n",
       "    </tr>\n",
       "    <tr>\n",
       "      <th>Linear SVM</th>\n",
       "      <td>0.948</td>\n",
       "      <td>0.919</td>\n",
       "      <td>0.946</td>\n",
       "      <td>0.948</td>\n",
       "      <td>19752.631</td>\n",
       "    </tr>\n",
       "    <tr>\n",
       "      <th>MLP</th>\n",
       "      <td>0.936</td>\n",
       "      <td>0.905</td>\n",
       "      <td>0.933</td>\n",
       "      <td>0.935</td>\n",
       "      <td>1506.450</td>\n",
       "    </tr>\n",
       "    <tr>\n",
       "      <th>NB</th>\n",
       "      <td>0.798</td>\n",
       "      <td>0.709</td>\n",
       "      <td>0.821</td>\n",
       "      <td>0.803</td>\n",
       "      <td>21.524</td>\n",
       "    </tr>\n",
       "    <tr>\n",
       "      <th>KNN-3</th>\n",
       "      <td>0.769</td>\n",
       "      <td>0.709</td>\n",
       "      <td>0.736</td>\n",
       "      <td>0.765</td>\n",
       "      <td>8445.001</td>\n",
       "    </tr>\n",
       "    <tr>\n",
       "      <th>KNN-5</th>\n",
       "      <td>0.744</td>\n",
       "      <td>0.688</td>\n",
       "      <td>0.693</td>\n",
       "      <td>0.739</td>\n",
       "      <td>9958.018</td>\n",
       "    </tr>\n",
       "  </tbody>\n",
       "</table>\n",
       "</div>"
      ],
      "text/plain": [
       "            accuracy  auprc     f1  auroc       time\n",
       "RBF SVM        0.954  0.926  0.954  0.955  25225.820\n",
       "Log Reg        0.949  0.920  0.948  0.949    126.592\n",
       "Linear SVM     0.948  0.919  0.946  0.948  19752.631\n",
       "MLP            0.936  0.905  0.933  0.935   1506.450\n",
       "NB             0.798  0.709  0.821  0.803     21.524\n",
       "KNN-3          0.769  0.709  0.736  0.765   8445.001\n",
       "KNN-5          0.744  0.688  0.693  0.739   9958.018"
      ]
     },
     "execution_count": 12,
     "metadata": {},
     "output_type": "execute_result"
    }
   ],
   "source": [
    "baseline_df.round(3)"
   ]
  },
  {
   "cell_type": "code",
   "execution_count": 13,
   "metadata": {},
   "outputs": [
    {
     "data": {
      "text/html": [
       "<div>\n",
       "<style scoped>\n",
       "    .dataframe tbody tr th:only-of-type {\n",
       "        vertical-align: middle;\n",
       "    }\n",
       "\n",
       "    .dataframe tbody tr th {\n",
       "        vertical-align: top;\n",
       "    }\n",
       "\n",
       "    .dataframe thead th {\n",
       "        text-align: right;\n",
       "    }\n",
       "</style>\n",
       "<table border=\"1\" class=\"dataframe\">\n",
       "  <thead>\n",
       "    <tr style=\"text-align: right;\">\n",
       "      <th></th>\n",
       "      <th>accuracy</th>\n",
       "      <th>auprc</th>\n",
       "      <th>f1</th>\n",
       "      <th>auroc</th>\n",
       "      <th>time</th>\n",
       "    </tr>\n",
       "  </thead>\n",
       "  <tbody>\n",
       "    <tr>\n",
       "      <th>NB</th>\n",
       "      <td>0.798</td>\n",
       "      <td>0.709</td>\n",
       "      <td>0.821</td>\n",
       "      <td>0.803</td>\n",
       "      <td>21.524</td>\n",
       "    </tr>\n",
       "    <tr>\n",
       "      <th>Log Reg</th>\n",
       "      <td>0.949</td>\n",
       "      <td>0.920</td>\n",
       "      <td>0.948</td>\n",
       "      <td>0.949</td>\n",
       "      <td>126.592</td>\n",
       "    </tr>\n",
       "    <tr>\n",
       "      <th>MLP</th>\n",
       "      <td>0.936</td>\n",
       "      <td>0.905</td>\n",
       "      <td>0.933</td>\n",
       "      <td>0.935</td>\n",
       "      <td>1506.450</td>\n",
       "    </tr>\n",
       "    <tr>\n",
       "      <th>KNN-3</th>\n",
       "      <td>0.769</td>\n",
       "      <td>0.709</td>\n",
       "      <td>0.736</td>\n",
       "      <td>0.765</td>\n",
       "      <td>8445.001</td>\n",
       "    </tr>\n",
       "    <tr>\n",
       "      <th>KNN-5</th>\n",
       "      <td>0.744</td>\n",
       "      <td>0.688</td>\n",
       "      <td>0.693</td>\n",
       "      <td>0.739</td>\n",
       "      <td>9958.018</td>\n",
       "    </tr>\n",
       "    <tr>\n",
       "      <th>Linear SVM</th>\n",
       "      <td>0.948</td>\n",
       "      <td>0.919</td>\n",
       "      <td>0.946</td>\n",
       "      <td>0.948</td>\n",
       "      <td>19752.631</td>\n",
       "    </tr>\n",
       "    <tr>\n",
       "      <th>RBF SVM</th>\n",
       "      <td>0.954</td>\n",
       "      <td>0.926</td>\n",
       "      <td>0.954</td>\n",
       "      <td>0.955</td>\n",
       "      <td>25225.820</td>\n",
       "    </tr>\n",
       "  </tbody>\n",
       "</table>\n",
       "</div>"
      ],
      "text/plain": [
       "            accuracy  auprc     f1  auroc       time\n",
       "NB             0.798  0.709  0.821  0.803     21.524\n",
       "Log Reg        0.949  0.920  0.948  0.949    126.592\n",
       "MLP            0.936  0.905  0.933  0.935   1506.450\n",
       "KNN-3          0.769  0.709  0.736  0.765   8445.001\n",
       "KNN-5          0.744  0.688  0.693  0.739   9958.018\n",
       "Linear SVM     0.948  0.919  0.946  0.948  19752.631\n",
       "RBF SVM        0.954  0.926  0.954  0.955  25225.820"
      ]
     },
     "execution_count": 13,
     "metadata": {},
     "output_type": "execute_result"
    }
   ],
   "source": [
    "baseline_df.sort_values(by = \"time\").round(3)"
   ]
  }
 ],
 "metadata": {
  "kernelspec": {
   "display_name": "Python 3",
   "language": "python",
   "name": "python3"
  },
  "language_info": {
   "codemirror_mode": {
    "name": "ipython",
    "version": 3
   },
   "file_extension": ".py",
   "mimetype": "text/x-python",
   "name": "python",
   "nbconvert_exporter": "python",
   "pygments_lexer": "ipython3",
   "version": "3.8.5"
  }
 },
 "nbformat": 4,
 "nbformat_minor": 4
}
