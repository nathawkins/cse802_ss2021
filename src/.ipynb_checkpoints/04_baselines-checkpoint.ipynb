{
 "cells": [
  {
   "cell_type": "code",
   "execution_count": null,
   "metadata": {},
   "outputs": [],
   "source": [
    "import numpy as np\n",
    "import pandas as pd\n",
    "from time import time\n",
    "\n",
    "from sklearn.model_selection import KFold\n",
    "from sklearn.metrics import accuracy_score, f1_score, average_precision_score, roc_auc_score\n",
    "\n",
    "from sklearn.linear_model import LogisticRegression\n",
    "from sklearn.svm import SVC\n",
    "from sklearn.neighbors import KNeighborsClassifier\n",
    "from sklearn.neural_network import MLPClassifier\n",
    "from sklearn.naive_bayes import GaussianNB"
   ]
  },
  {
   "cell_type": "code",
   "execution_count": null,
   "metadata": {},
   "outputs": [],
   "source": [
    "models_ = {\"Log Reg\":LogisticRegression(max_iter = 1000),\n",
    "           \"Linear SVM\": SVC(kernel = \"linear\")\n",
    "           \"RBF SVM\": SVC(), \n",
    "           \"KNN-3\": KNeighborsClassifier(n_neighbors = 3), \n",
    "           \"KNN-5\": KNeighborsClassifier(n_neighbors = 5),\n",
    "           \"MLP\": MLPClassifier(),\n",
    "           \"NB\": GaussianNB()}"
   ]
  },
  {
   "cell_type": "code",
   "execution_count": null,
   "metadata": {},
   "outputs": [],
   "source": [
    "X = np.load(\"../data/features.npy\")\n",
    "y = np.load(\"../data/labels.npy\")"
   ]
  },
  {
   "cell_type": "code",
   "execution_count": null,
   "metadata": {},
   "outputs": [],
   "source": [
    "results = {}\n",
    "for k in models_.keys():\n",
    "    results[k] = {\"accuracy\": 0.0, \"auprc\": 0.0, \"f1\": 0.0, \"auroc\": 0.0, \"time\": 0.0}"
   ]
  },
  {
   "cell_type": "code",
   "execution_count": null,
   "metadata": {},
   "outputs": [],
   "source": [
    "kf = KFold(n_splits = 3, shuffle = True, random_state = 8675309)\n",
    "k = 0\n",
    "for train_index, test_index in kf.split(X):\n",
    "    k += 1\n",
    "    print(f\"k = {k}\")\n",
    "    X_train, X_test = X[train_index], X[test_index]\n",
    "    y_train, y_test = y[train_index], y[test_index]\n",
    "    \n",
    "    for model_name, CLF in models_.items():\n",
    "        print(model_name)\n",
    "        start_ = time()\n",
    "        CLF.fit(X_train, y_train)\n",
    "        y_pred = CLF.predict(X_test)\n",
    "        end_ = time()\n",
    "        \n",
    "        accuracy = accuracy_score(y_test, y_pred)\n",
    "        auprc    = average_precision_score(y_test, y_pred)\n",
    "        auroc    = roc_auc_score(y_test, y_pred)\n",
    "        f1       = f1_score(y_test, y_pred)\n",
    "        \n",
    "        results[model_name][\"accuracy\"] += accuracy\n",
    "        results[model_name][\"auprc\"]    += auprc\n",
    "        results[model_name][\"auroc\"]    += auroc\n",
    "        results[model_name][\"f1\"]       += f1\n",
    "        results[model_name][\"time\"]     += end_ - start_\n",
    "        \n",
    "for model_name in results.keys():\n",
    "    for metric in results[model_name].keys():\n",
    "        results[model_name][metric] /= 5"
   ]
  },
  {
   "cell_type": "code",
   "execution_count": null,
   "metadata": {},
   "outputs": [],
   "source": [
    "import json\n",
    "json.dump(results, open(\"../results/baselines.json\", \"w\"))"
   ]
  }
 ],
 "metadata": {
  "kernelspec": {
   "display_name": "Python 3",
   "language": "python",
   "name": "python3"
  },
  "language_info": {
   "codemirror_mode": {
    "name": "ipython",
    "version": 3
   },
   "file_extension": ".py",
   "mimetype": "text/x-python",
   "name": "python",
   "nbconvert_exporter": "python",
   "pygments_lexer": "ipython3",
   "version": "3.8.5"
  }
 },
 "nbformat": 4,
 "nbformat_minor": 4
}
